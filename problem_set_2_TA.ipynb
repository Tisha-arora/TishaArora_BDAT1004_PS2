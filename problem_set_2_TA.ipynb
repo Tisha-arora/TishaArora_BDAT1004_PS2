{
 "cells": [
  {
   "cell_type": "markdown",
   "id": "59335376-cac3-493d-b560-09a78f445a76",
   "metadata": {},
   "source": [
    "Question 1:\n",
    "Consider the following Python module:\n",
    "a = 0\n",
    "def b():\n",
    "global a\n",
    "a = c(a)\n",
    "def c(a):\n",
    "return a + 2\n",
    "\n",
    "After importing the module into the interpreter, you execute:\n",
    "b()\n",
    "b()\n",
    "b()\n",
    "a\n",
    "?\n",
    "\n",
    "What value is displayed when the last expression (a) is evaluated? Explain your\n",
    "answer by indicating what happens in every executed statement."
   ]
  },
  {
   "cell_type": "code",
   "execution_count": 7,
   "id": "7fb3dd27-7486-425b-bff7-bd199a162454",
   "metadata": {},
   "outputs": [
    {
     "data": {
      "text/plain": [
       "6"
      ]
     },
     "execution_count": 7,
     "metadata": {},
     "output_type": "execute_result"
    }
   ],
   "source": [
    "a = 0\n",
    "\n",
    "def b():\n",
    "    global a\n",
    "    a = c(a)\n",
    "\n",
    "def c(a):\n",
    "    return a + 2\n",
    "b()\n",
    "b()\n",
    "b()\n",
    "a"
   ]
  },
  {
   "cell_type": "markdown",
   "id": "5641b8f7-6265-46f7-afea-6bf30744142d",
   "metadata": {},
   "source": [
    "Question 2:\n",
    "\n",
    "Function fileLength(), given to you, takes the name of a file as input and returns\n",
    "the length of the file:\n",
    "\n",
    "fileLength('midterm.py')\n",
    "284\n",
    "\n",
    "fileLength('idterm.py')\n",
    "Traceback (most recent call last):\n",
    "File \"<pyshell#34>\", line 1, in <module>\n",
    "fileLength('idterm.py')\n",
    "File \"/Users/me/midterm.py\", line 3, in fileLength\n",
    "infile = open(filename)\n",
    "FileNotFoundError: [Errno 2] No such file or directory:\n",
    "'idterm.py'\n",
    "As shown above, if the file cannot be found by the interpreter or if it cannot be read\n",
    "as a text file, an exception will be raised. Modify function fileLength() so that a\n",
    "friendly message is printed instead:\n",
    "\n",
    "fileLength('midterm.py')\n",
    "358\n",
    "\n",
    "fileLength('idterm.py')\n",
    "File idterm.py not found"
   ]
  },
  {
   "cell_type": "code",
   "execution_count": 5,
   "id": "1ee9f203-7606-4ee3-8bdf-61cd2bf20a41",
   "metadata": {},
   "outputs": [
    {
     "name": "stdout",
     "output_type": "stream",
     "text": [
      "File idterm.py not found\n"
     ]
    }
   ],
   "source": [
    "def fileLength(filename):\n",
    "    \" takes the name of a file as input and returns the length of the file\"\n",
    "    try:\n",
    "        infile = open (filename,'r')\n",
    "        content = infile.read ()\n",
    "        length = len(content)\n",
    "        print (length)\n",
    "        infile.close()\n",
    "    except :\n",
    "        print (\"File {} not found\".format (filename))\n",
    "fileLength(\"idterm.py\")"
   ]
  },
  {
   "cell_type": "markdown",
   "id": "85b9125f-35a9-4639-9be1-986acd4315c6",
   "metadata": {},
   "source": [
    "Question 3:\n",
    "\n",
    "Write a class named Marsupial that can be used as shown below:\n",
    "\n",
    "m = Marsupial() \n",
    "\n",
    "m.put_in_pouch('doll')\n",
    "\n",
    "m.put_in_pouch('firetruck')\n",
    "\n",
    "m.put_in_pouch('kitten') \n",
    "\n",
    "m.pouch_contents()\n",
    "['doll', 'firetruck', 'kitten' at coordinates (3,0tten']"
   ]
  },
  {
   "cell_type": "code",
   "execution_count": 8,
   "id": "f395800b-f731-4790-a17c-8db53a921eed",
   "metadata": {},
   "outputs": [
    {
     "data": {
      "text/plain": [
       "['doll', 'firetruck', 'kitten']"
      ]
     },
     "execution_count": 8,
     "metadata": {},
     "output_type": "execute_result"
    }
   ],
   "source": [
    "class Marsupial:\n",
    "    \"Class enques unlimited number of items and print out all the queue\"\n",
    "    def __init__(self):\n",
    "        self.q = []\n",
    "\n",
    "    def put_in_pouch (self, item):\n",
    "        return self.q.append(item)\n",
    "\n",
    "    def pouch_contents(self):\n",
    "        return self.q\n",
    "m = Marsupial()\n",
    "m.put_in_pouch('doll')\n",
    "m.put_in_pouch('firetruck')\n",
    "m.put_in_pouch('kitten')\n",
    "m.pouch_contents()"
   ]
  },
  {
   "cell_type": "markdown",
   "id": "85ddce53-f8e3-4580-970e-75d14dd8f8f9",
   "metadata": {},
   "source": [
    "Now write a class named Kangaroo as a subclass of Marsupial that inherits all the attributes of Marsupial and also: a. extends the Marsupial\n",
    "init constructor to take, as input, the coordinates x and y of the Kangaroo object, b. supports method jump that takes number values dx and \n",
    "dy as input and moves the kangaroo by dx units along the x-axis and by dy units along the y-axis, and c. overloads the str operator so it \n",
    "behaves as shown below. k = Kangaroo(0,0) print(k) I am a Kangaroo located at coordinates (0,0) k.put_in_pouch('doll') \n",
    "k.put_in_pouch('firetruck') k.put_in_pouch('kitten') k.pouch_contents() ['doll', 'firetruck', 'kitten'] k.jump(1,0) k.jump(1,0) k.jump(1,0) print(k) I \n",
    "am a Kangaroo located at coordinates (3,0)\n"
   ]
  },
  {
   "cell_type": "code",
   "execution_count": 9,
   "id": "50a0fe4b-79c8-4219-b8a1-57e3e89e2325",
   "metadata": {},
   "outputs": [
    {
     "name": "stdout",
     "output_type": "stream",
     "text": [
      "Iam a Kangaroo located at coordinates (0,0)\n"
     ]
    }
   ],
   "source": [
    "class Kangaroo (Marsupial):\n",
    "    \"Subclass of class Marsupial , takes x and y coordinates and print out a statement defining the animal and the location in coordinates\"\n",
    "    \n",
    "    def __init__(self,xcoord=0,ycoord=0):\n",
    "        self.q = []\n",
    "        self.x = xcoord\n",
    "        self.y = ycoord\n",
    "        \n",
    "        \n",
    "    def jump (self,dx,dy):\n",
    "        self.x+=dx\n",
    "        self.y+=dy\n",
    "        \n",
    "    def __str__(self):\n",
    "        \n",
    "        return ('Iam a Kangaroo located at coordinates ({},{})'.format(self.x, self.y))\n",
    "k = Kangaroo(0,0)\n",
    "print(k)"
   ]
  },
  {
   "cell_type": "code",
   "execution_count": 10,
   "id": "c2e956f8-53db-4ce6-a6ef-f61534f4816d",
   "metadata": {},
   "outputs": [
    {
     "data": {
      "text/plain": [
       "['doll', 'firetruck', 'kitten']"
      ]
     },
     "execution_count": 10,
     "metadata": {},
     "output_type": "execute_result"
    }
   ],
   "source": [
    "k.put_in_pouch('doll')\n",
    "k.put_in_pouch('firetruck')\n",
    "k.put_in_pouch('kitten')\n",
    "k.pouch_contents()"
   ]
  },
  {
   "cell_type": "code",
   "execution_count": 11,
   "id": "ea99ffda-e735-4bde-81b3-701fed972c01",
   "metadata": {},
   "outputs": [
    {
     "name": "stdout",
     "output_type": "stream",
     "text": [
      "Iam a Kangaroo located at coordinates (3,0)\n"
     ]
    }
   ],
   "source": [
    "k.jump(1,0)\n",
    "k.jump(1,0)\n",
    "k.jump(1,0)\n",
    "print(k)"
   ]
  },
  {
   "cell_type": "markdown",
   "id": "e15f71c5-e47e-40dc-9695-efc28a7965a8",
   "metadata": {},
   "source": [
    "Question 4"
   ]
  },
  {
   "cell_type": "markdown",
   "id": "fe63d9a5-36f0-4725-8f3b-8b2534041507",
   "metadata": {},
   "source": [
    "Write function collatz() that takes a positive integer x as input and prints the\n",
    "Collatz sequence starting at x. A Collatz sequence is obtained by repeatedly applying\n",
    "this rule to the previous number x in the sequence:\n",
    "x = { 𝑥/2 𝑖𝑓 𝑥 𝑖𝑠 𝑒𝑣𝑒𝑛\n",
    "3𝑥 + 1 𝑖𝑓 𝑥 𝑖𝑠 𝑜𝑑𝑑\n",
    "Your function should stop when the sequence gets to number 1. Your\n",
    "implementation must be recursive, without any loops \n",
    "collatz(1)\n",
    "1\n",
    "collatz(10)\n",
    "10\n",
    "5\n",
    "16\n",
    "8\n",
    "4\n",
    "2\n",
    "1"
   ]
  },
  {
   "cell_type": "code",
   "execution_count": 12,
   "id": "50c74bf7-f2e3-4374-b232-94542749a34b",
   "metadata": {},
   "outputs": [
    {
     "name": "stdout",
     "output_type": "stream",
     "text": [
      "10 5 16 8 4 2 1\n"
     ]
    }
   ],
   "source": [
    "def collatz(n): \n",
    "      \n",
    "    while n != 1: \n",
    "        print(n, end = ' ') \n",
    "  \n",
    "        if n %2 !=0 : \n",
    "            n = 3 * n + 1\n",
    "  \n",
    "        # If even  \n",
    "        else: \n",
    "            n = n // 2\n",
    "  \n",
    "    print(n) \n",
    "  \n",
    "collatz(10)"
   ]
  },
  {
   "cell_type": "markdown",
   "id": "bd1f08bd-4735-4a88-b11c-1cdb1962e249",
   "metadata": {},
   "source": [
    "Question 5"
   ]
  },
  {
   "cell_type": "markdown",
   "id": "60791a95-95aa-4ce4-86c7-1d90d5975dbf",
   "metadata": {},
   "source": [
    "Write a recursive method binary() that takes a non-negative\n",
    "integer n and prints the binary representation of integer n.\n"
   ]
  },
  {
   "cell_type": "code",
   "execution_count": 1,
   "id": "b71d456f-1fb7-4f23-9193-92e333684e60",
   "metadata": {},
   "outputs": [],
   "source": [
    "def binary(x):\n",
    "    if x == 0:\n",
    "        return 0     #if input is 0, output will be 0\n",
    "    else:\n",
    "        binary(x//2)    #print binary values\n",
    "    print(x % 2,end = '')"
   ]
  },
  {
   "cell_type": "code",
   "execution_count": 2,
   "id": "4d1c0ce4-5d56-49e7-9b27-4ae367dba3f6",
   "metadata": {},
   "outputs": [
    {
     "data": {
      "text/plain": [
       "0"
      ]
     },
     "execution_count": 2,
     "metadata": {},
     "output_type": "execute_result"
    }
   ],
   "source": [
    "binary(0)"
   ]
  },
  {
   "cell_type": "code",
   "execution_count": 3,
   "id": "caad38cd-7318-44fb-bc5e-dcc996b2f2af",
   "metadata": {},
   "outputs": [
    {
     "name": "stdout",
     "output_type": "stream",
     "text": [
      "1"
     ]
    }
   ],
   "source": [
    "binary(1)"
   ]
  },
  {
   "cell_type": "code",
   "execution_count": 4,
   "id": "56ddca1f-9c34-4198-991e-38ad9560fdf0",
   "metadata": {},
   "outputs": [
    {
     "name": "stdout",
     "output_type": "stream",
     "text": [
      "11"
     ]
    }
   ],
   "source": [
    "binary(3)"
   ]
  },
  {
   "cell_type": "code",
   "execution_count": 5,
   "id": "27cebae7-f9f6-49d9-b829-4594d38d9b42",
   "metadata": {},
   "outputs": [
    {
     "name": "stdout",
     "output_type": "stream",
     "text": [
      "1001"
     ]
    }
   ],
   "source": [
    "binary(9)"
   ]
  },
  {
   "cell_type": "markdown",
   "id": "7b7e3b9a-0c14-41ef-99bc-6b4dde9a4c78",
   "metadata": {},
   "source": [
    "Question 6"
   ]
  },
  {
   "cell_type": "markdown",
   "id": "97e63536-24b9-4264-8fa3-8eea3ed0a5f0",
   "metadata": {},
   "source": [
    "Implement a class named HeadingParser that can be used to parse an HTML\n",
    "document, and retrieve and print all the headings in the document. You should\n",
    "implement your class as a subclass of HTMLParser, defined in Standard Library\n",
    "module html.parser. When fed a string containing HTML code, your class should\n",
    "print the headings, one per line and in the order in which they appear in the\n",
    "document. Each heading should be indented as follows: an h1 heading should have\n",
    "indentation 0, and h2 heading should have indentation 1, etc. Test your\n",
    "implementation using w3c.html.\n",
    "infile = open('w3c.html')\n",
    "content = infile.read()\n",
    "infile.close()\n",
    "hp = HeadingParser()\n",
    "hp.feed(content)\n",
    "W3C Mission\n",
    "Principles"
   ]
  },
  {
   "cell_type": "code",
   "execution_count": 15,
   "id": "8fa49254-5688-42b8-90af-0558736dbbb1",
   "metadata": {},
   "outputs": [],
   "source": [
    "from html.parser import HTMLParser\n",
    "\n",
    "class HeadingParser(HTMLParser):\n",
    "    Headings = [\"h1\",\"h2\"]\n",
    "    current = -1\n",
    "    \n",
    "    def handle_starttag(self, tag, attrs):\n",
    "        if tag in HeadingParser.Headings:     #check for headers from the Heading List\n",
    "            HeadingParser.current = HeadingParser.Headings.index(tag)\n",
    "    \n",
    "    def handle_endtag(self,tag):               # End tag Handler\n",
    "        if tag == HeadingParser.Headings[HeadingParser.current]:\n",
    "            HeadingParser.Current = -1\n",
    "            \n",
    "    def handle_data(self,data):    #setting Printing identation for Heading tags\n",
    "        if HeadingParser.current >= 0:\n",
    "            print(\" \"*HeadingParser.current+data)\n"
   ]
  },
  {
   "cell_type": "code",
   "execution_count": 13,
   "id": "d1e7e45c-1ae2-4cd0-bf95-46d6ebed733f",
   "metadata": {},
   "outputs": [
    {
     "name": "stdout",
     "output_type": "stream",
     "text": [
      "W3C Mission\n",
      "\n",
      "\t\n",
      " Principles\n",
      " \n",
      " \n",
      "\n",
      "\n",
      "\n",
      " \n",
      "\n"
     ]
    }
   ],
   "source": [
    "infile = open(\"w3c.txt\")\n",
    "content = infile.read()\n",
    "infile.close()\n",
    "hp = HeadingParser()\n",
    "hp.feed(content)"
   ]
  },
  {
   "cell_type": "markdown",
   "id": "74c4cf8c-3dc3-4478-8ca0-9dc47845e788",
   "metadata": {},
   "source": [
    "Question 7"
   ]
  },
  {
   "cell_type": "markdown",
   "id": "e779e905-73f5-4460-8afc-70a4546113c4",
   "metadata": {},
   "source": [
    "Implement recursive function webdir() that takes as input: a URL (as a string) and\n",
    "non-negative integers depth and indent. Your function should visit every web\n",
    "page reachable from the starting URL web page in depth clicks or less, and print\n",
    "each web page's URL. As shown below, indentation, specified by indent, should\n",
    "be used to indicate the depth of a URL."
   ]
  },
  {
   "cell_type": "code",
   "execution_count": 38,
   "id": "e06de677-5e54-4303-a175-cee9fa5c610c",
   "metadata": {},
   "outputs": [],
   "source": [
    "from urllib.request import urlopen\n",
    "from urllib.parse import urlparse\n",
    "from urllib.parse import urljoin\n",
    "from html.parser import HTMLParser\n",
    "\n",
    "class LinkParser(HTMLParser):\n",
    "    \n",
    "    def __init__(self, url):\n",
    "                                            #here, we are initializing parser, the url and the list.\n",
    "        HTMLParser.__init__(self)\n",
    "        self.url = url\n",
    "        self.links = []\n",
    "\n",
    "    def handle_starttag(self, tag, attrs):\n",
    "        if tag == 'a':\n",
    "                                              #Search for href attribute\n",
    "            for attr, value in attrs:\n",
    "                if attr == 'href':\n",
    "                    url1 = urljoin(self.url, value)\n",
    "                    self.links.append(url1)\n",
    "\n",
    "def webdir(url, depth, indent):\n",
    "    if depth == 0:                            #Base condition for the recursive function\n",
    "        return\n",
    "\n",
    "    \n",
    "    print(\" \" * indent + url)                 #Printing the current URL with the indentation\n",
    "\n",
    "    try:\n",
    "        response = urlopen(url)\n",
    "    except:\n",
    "        return\n",
    "\n",
    "    if not response.getheader(\"Content-Type\").startswith(\"text/html\"):   #Checking whether the response header for URL that was fetched starts with the string \"text/html\"\n",
    "        return\n",
    "\n",
    "    html = response.read()         #Obtaining links in the web-page\n",
    "    html = response.decode()\n",
    "    parser = LinkParser(url)\n",
    "    parser.feed(html)\n",
    "    links = parser.links\n",
    "    \n",
    "    for link in links:\n",
    "        webdir(link, depth-1, indent+1)"
   ]
  },
  {
   "cell_type": "code",
   "execution_count": 39,
   "id": "acc8a015-69a2-4f67-840f-6e962d5085b8",
   "metadata": {},
   "outputs": [
    {
     "name": "stdout",
     "output_type": "stream",
     "text": [
      "http://reed.cs.depaul.edu/lperkovic/csc242/test1.html\n"
     ]
    }
   ],
   "source": [
    "webdir(\"http://reed.cs.depaul.edu/lperkovic/csc242/test1.html\", 2, 0)"
   ]
  },
  {
   "cell_type": "markdown",
   "id": "73f1d7c8-93e3-4a5d-8d0c-f533a3b81011",
   "metadata": {},
   "source": [
    "Question 8"
   ]
  },
  {
   "cell_type": "markdown",
   "id": "a168804f-f0de-4d8b-8b7b-607dab915329",
   "metadata": {},
   "source": [
    "Write SQL queries on the below database table that return:\n",
    "|City   |Country             |Season    |Tempreture(c)  |Rainfall(mm) |\n",
    "|:------|--------------------|----------|---------------|------------:|\n",
    "|Mumbai |India               |Winter    |24.8           |5.9          |\n",
    "|Mumbai |India               |Spring    |28.4           |16.2         |\n",
    "|Mumbai |India               |Summer    |27.9           |1549.4       |\n",
    "|Mumbai |India               |Fall      |27.6           |346.0        |\n",
    "|Mumbai |India               |Winter    |24.8           |5.9          |\n",
    "|London |United Kingdom      |Winter    |4.2            |207.7        |\n",
    "|London |United Kingdom      |Spring    |8.3            |169.6        |\n",
    "|London |United Kingdom      |Summer    |15.7           |157.0        |\n",
    "|London |United Kingdom      |Fall      |10.4           |218.5        |\n",
    "|Cairo  |Egypt               |Winter    |13.6           |16.5         |\n",
    "|Cairo  |Egypt               |Spring    |20.7           |6.5          |\n",
    "|Cairo  |Egypt               |Summer    |27.7           |0.1          |\n",
    "|Cairo  |Egypt               |Fall      |22.2           |4.5          |t Fall 22.2 4.5"
   ]
  },
  {
   "cell_type": "code",
   "execution_count": 14,
   "id": "9db5eb14-b6b2-4063-8ca7-72a330483af3",
   "metadata": {},
   "outputs": [
    {
     "data": {
      "text/plain": [
       "<sqlite3.Cursor at 0x209345c3040>"
      ]
     },
     "execution_count": 14,
     "metadata": {},
     "output_type": "execute_result"
    }
   ],
   "source": [
    "import sqlite3\n",
    "connnection = sqlite3.connect('sample.db')    #Sample Datababase Connection\n",
    "cur = connnection.cursor()\n",
    "cur.execute(\"CREATE TABLE weather (City text, Country text, Season text,Temperature float,Rainfall float)\")\n",
    "#Create Table for City Weather Data"
   ]
  },
  {
   "cell_type": "code",
   "execution_count": 15,
   "id": "39378342-834f-4379-9464-8afb209014b1",
   "metadata": {},
   "outputs": [
    {
     "data": {
      "text/plain": [
       "<sqlite3.Cursor at 0x209345c3040>"
      ]
     },
     "execution_count": 15,
     "metadata": {},
     "output_type": "execute_result"
    }
   ],
   "source": [
    "cur.execute(\"INSERT INTO weather VALUES ('Mumbai', 'India', 'Winter',24.8,5.9)\")\n",
    "cur.execute(\"INSERT INTO weather VALUES ('Mumbai', 'India', 'Spring',28.4,16.2)\")\n",
    "cur.execute(\"INSERT INTO weather VALUES ('Mumbai', 'India', 'Summer',27.9,1549.4 )\")\n",
    "cur.execute(\"INSERT INTO weather VALUES ('Mumbai', 'India', 'Fall',27.6,346.0)\")\n",
    "cur.execute(\"INSERT INTO weather VALUES ('London', 'United Kingdom', 'Winter',4.2,207.7 )\")\n",
    "cur.execute(\"INSERT INTO weather VALUES ('London', 'United Kingdom', 'Spring',8.3,169.6)\")\n",
    "cur.execute(\"INSERT INTO weather VALUES ('London', 'United Kingdom', 'Summer',15.7,157.0)\")\n",
    "cur.execute(\"INSERT INTO weather VALUES ('London', 'United Kingdom', 'Fall',10.4,218.5)\")\n",
    "cur.execute(\"INSERT INTO weather VALUES ('Cairo', 'Egypt', 'Winter',13.6,16.5)\")\n",
    "cur.execute(\"INSERT INTO weather VALUES ('Cairo', 'Egypt', 'Spring',20.7,6.5)\")\n",
    "cur.execute(\"INSERT INTO weather VALUES ('Cairo', 'Egypt', 'Summer',27.7,0.1)\")\n",
    "cur.execute(\"INSERT INTO weather VALUES ('Cairo', 'Egypt', 'Fall',22.2,4.5)\")"
   ]
  },
  {
   "cell_type": "markdown",
   "id": "2ed7ef72-1578-4baa-8da3-90ee7674bfd1",
   "metadata": {},
   "source": [
    "(a) part :- All the temperature data"
   ]
  },
  {
   "cell_type": "code",
   "execution_count": 16,
   "id": "562f6a22-ef07-4cfb-8a9d-df03ad106612",
   "metadata": {},
   "outputs": [
    {
     "name": "stdout",
     "output_type": "stream",
     "text": [
      "(24.8,)\n",
      "(28.4,)\n",
      "(27.9,)\n",
      "(27.6,)\n",
      "(4.2,)\n",
      "(8.3,)\n",
      "(15.7,)\n",
      "(10.4,)\n",
      "(13.6,)\n",
      "(20.7,)\n",
      "(27.7,)\n",
      "(22.2,)\n"
     ]
    }
   ],
   "source": [
    "cur.execute('SELECT Temperature FROM weather')\n",
    "content=cur.fetchall()\n",
    "for cells in content:\n",
    "    print(cells)"
   ]
  },
  {
   "cell_type": "markdown",
   "id": "d168bad9-1fd1-4b99-8909-98e4736dbedc",
   "metadata": {},
   "source": [
    "(b) part :- All the cities, but without repetition"
   ]
  },
  {
   "cell_type": "code",
   "execution_count": 17,
   "id": "08b40daf-35c3-4158-9380-9d2f8618d586",
   "metadata": {},
   "outputs": [
    {
     "name": "stdout",
     "output_type": "stream",
     "text": [
      "('Mumbai',)\n",
      "('London',)\n",
      "('Cairo',)\n"
     ]
    }
   ],
   "source": [
    "cur.execute('SELECT DISTINCT City FROM weather')\n",
    "content=cur.fetchall()\n",
    "for cells in content:\n",
    "    print(cells)"
   ]
  },
  {
   "cell_type": "markdown",
   "id": "b930e83c-397b-415a-a82d-ac398eda4409",
   "metadata": {},
   "source": [
    "(c) part :- All the records for India"
   ]
  },
  {
   "cell_type": "code",
   "execution_count": 19,
   "id": "51a25e37-5874-45af-8f9f-137830fff1e4",
   "metadata": {},
   "outputs": [
    {
     "name": "stdout",
     "output_type": "stream",
     "text": [
      "('Mumbai', 'India', 'Winter', 24.8, 5.9)\n",
      "('Mumbai', 'India', 'Spring', 28.4, 16.2)\n",
      "('Mumbai', 'India', 'Summer', 27.9, 1549.4)\n",
      "('Mumbai', 'India', 'Fall', 27.6, 346.0)\n"
     ]
    }
   ],
   "source": [
    "cur.execute('SELECT * FROM weather WHERE Country=\"India\"')\n",
    "content=cur.fetchall()\n",
    "for cells in content:\n",
    "    print(cells)"
   ]
  },
  {
   "cell_type": "markdown",
   "id": "b7827638-1749-469b-a211-8a93e6a82e38",
   "metadata": {},
   "source": [
    "(d) part :- All the Fall records"
   ]
  },
  {
   "cell_type": "code",
   "execution_count": 20,
   "id": "b26ab1f2-dad8-43f2-b72a-8d4511d0768b",
   "metadata": {},
   "outputs": [
    {
     "name": "stdout",
     "output_type": "stream",
     "text": [
      "('Mumbai', 'India', 'Fall', 27.6, 346.0)\n",
      "('London', 'United Kingdom', 'Fall', 10.4, 218.5)\n",
      "('Cairo', 'Egypt', 'Fall', 22.2, 4.5)\n"
     ]
    }
   ],
   "source": [
    "cur.execute('SELECT * FROM weather WHERE Season=\"Fall\"')\n",
    "content=cur.fetchall()\n",
    "for cells in content:\n",
    "    print(cells)"
   ]
  },
  {
   "cell_type": "markdown",
   "id": "fa32f01b-9b96-4132-b13f-ebc8cc571fbf",
   "metadata": {},
   "source": [
    "(e) part :- The city, country, and season for which the average rainfall is between 200\n",
    "and 400 millimeters"
   ]
  },
  {
   "cell_type": "code",
   "execution_count": 21,
   "id": "69872ec7-a94a-46d8-bf89-00514c45e9ca",
   "metadata": {},
   "outputs": [
    {
     "name": "stdout",
     "output_type": "stream",
     "text": [
      "('Mumbai', 'India', 'Fall')\n",
      "('London', 'United Kingdom', 'Winter')\n",
      "('London', 'United Kingdom', 'Fall')\n"
     ]
    }
   ],
   "source": [
    "cur.execute('SELECT City, Country, Season FROM weather WHERE Rainfall BETWEEN 200 AND 400 ')\n",
    "content=cur.fetchall()\n",
    "for cells in content:\n",
    "    print(cells)\n"
   ]
  },
  {
   "cell_type": "markdown",
   "id": "ad64dae7-d61b-4608-b1b3-8267eb7d4bf1",
   "metadata": {},
   "source": [
    "(f) part :- The city and country for which the average Fall temperature is above 20\n",
    "degrees, in increasing temperature order"
   ]
  },
  {
   "cell_type": "code",
   "execution_count": 22,
   "id": "f05b520a-60fe-4c6d-b5df-6f43a253432a",
   "metadata": {},
   "outputs": [
    {
     "name": "stdout",
     "output_type": "stream",
     "text": [
      "('Cairo', 'Egypt')\n",
      "('Mumbai', 'India')\n"
     ]
    }
   ],
   "source": [
    "cur.execute('SELECT City, Country FROM weather WHERE Season = \"Fall\" AND Temperature > 20 ORDER BY Temperature ASC ')\n",
    "content=cur.fetchall()\n",
    "for cells in content:\n",
    "    print(cells)"
   ]
  },
  {
   "cell_type": "markdown",
   "id": "3c6a90eb-f998-48f6-8f86-25c6180a9fc5",
   "metadata": {},
   "source": [
    "(g) part :- The total annual rainfall for Cairo"
   ]
  },
  {
   "cell_type": "code",
   "execution_count": 23,
   "id": "e9a3a6dd-c101-46b5-8edd-1a4b54cc5d1b",
   "metadata": {},
   "outputs": [
    {
     "name": "stdout",
     "output_type": "stream",
     "text": [
      "(27.6,)\n"
     ]
    }
   ],
   "source": [
    "cur.execute('SELECT SUM(Rainfall) FROM weather WHERE City = \"Cairo\"')\n",
    "content=cur.fetchall()\n",
    "for cells in content:\n",
    "    print(cells)"
   ]
  },
  {
   "cell_type": "markdown",
   "id": "e2dc16b2-6583-4f82-8fd9-acf4a4817443",
   "metadata": {},
   "source": [
    "(h) part :- The total rainfall for each season"
   ]
  },
  {
   "cell_type": "code",
   "execution_count": 24,
   "id": "a771f8cb-4560-41c0-a5d2-0bf1de5a9249",
   "metadata": {},
   "outputs": [
    {
     "name": "stdout",
     "output_type": "stream",
     "text": [
      "(569.0,)\n",
      "(192.29999999999998,)\n",
      "(1706.5,)\n",
      "(230.1,)\n"
     ]
    }
   ],
   "source": [
    "cur.execute('SELECT SUM(Rainfall) FROM weather GROUP BY Season')\n",
    "content=cur.fetchall()\n",
    "for cells in content:\n",
    "    print(cells)"
   ]
  },
  {
   "cell_type": "markdown",
   "id": "aa501262-1a0a-4c2b-bc94-46722f21ee45",
   "metadata": {},
   "source": [
    "Question 9 "
   ]
  },
  {
   "cell_type": "markdown",
   "id": "48d6142b-c0a2-4505-ab64-18288bae403f",
   "metadata": {},
   "source": [
    "Suppose list words is defined as follows:\n",
    "Write list comprehension expressions that use list words and generate the following\n",
    "lists:"
   ]
  },
  {
   "cell_type": "code",
   "execution_count": 27,
   "id": "b240d69a-2905-4d51-9103-b9ab5e186e0d",
   "metadata": {},
   "outputs": [],
   "source": [
    "words = ['The', 'quick', 'brown', 'fox', 'jumps', 'over', 'the', 'lazy', 'dog']"
   ]
  },
  {
   "cell_type": "markdown",
   "id": "3ea0edee-7c34-49f3-9236-68de6fcf33c6",
   "metadata": {},
   "source": [
    "(a) part"
   ]
  },
  {
   "cell_type": "code",
   "execution_count": 28,
   "id": "25a72234-ff99-456e-9bca-08fb48c6e977",
   "metadata": {},
   "outputs": [
    {
     "name": "stdout",
     "output_type": "stream",
     "text": [
      "['THE', 'QUICK', 'BROWN', 'FOX', 'JUMPS', 'OVER', 'THE', 'LAZY', 'DOG']\n"
     ]
    }
   ],
   "source": [
    "print ([items.upper() for items in words])"
   ]
  },
  {
   "cell_type": "markdown",
   "id": "70f79e7f-c82b-42fe-ac3a-6b0c284a072f",
   "metadata": {},
   "source": [
    "(b) part"
   ]
  },
  {
   "cell_type": "code",
   "execution_count": 29,
   "id": "7f782223-f062-4a91-9c6c-10e898cbb0d7",
   "metadata": {},
   "outputs": [
    {
     "name": "stdout",
     "output_type": "stream",
     "text": [
      "['the', 'quick', 'brown', 'fox', 'jumps', 'over', 'the', 'lazy', 'dog']\n"
     ]
    }
   ],
   "source": [
    "print ([items.lower() for items in words])"
   ]
  },
  {
   "cell_type": "markdown",
   "id": "19e85dda-3d7d-464f-8c6a-5cc591974798",
   "metadata": {},
   "source": [
    "(c) part"
   ]
  },
  {
   "cell_type": "code",
   "execution_count": 30,
   "id": "1aab3b35-2f86-43af-b8f5-25078a5bacf3",
   "metadata": {},
   "outputs": [
    {
     "name": "stdout",
     "output_type": "stream",
     "text": [
      "[3, 5, 5, 3, 5, 4, 3, 4, 3]\n"
     ]
    }
   ],
   "source": [
    "print ([len(items) for items in words])"
   ]
  },
  {
   "cell_type": "markdown",
   "id": "20c088b0-93e1-456f-8130-3e01747e704c",
   "metadata": {},
   "source": [
    "(d) part"
   ]
  },
  {
   "cell_type": "code",
   "execution_count": 31,
   "id": "7a5f644a-7fd5-40ea-8f8f-350a21676615",
   "metadata": {},
   "outputs": [
    {
     "name": "stdout",
     "output_type": "stream",
     "text": [
      "[['THE', 'the', 3], ['QUICK', 'quick', 5], ['BROWN', 'brown', 5], ['FOX', 'fox', 3], ['JUMPS', 'jumps', 5], ['OVER', 'over', 4], ['THE', 'the', 3], ['LAZY', 'lazy', 4], ['DOG', 'dog', 3]]\n"
     ]
    }
   ],
   "source": [
    "print ([[items.upper(),items.lower(),len(items)] for items in words])"
   ]
  },
  {
   "cell_type": "markdown",
   "id": "424f95d3-f350-40dc-b118-8517c59a1476",
   "metadata": {},
   "source": [
    "(e) part "
   ]
  },
  {
   "cell_type": "code",
   "execution_count": 32,
   "id": "bfe62274-a524-41d2-a04a-9883290d664b",
   "metadata": {},
   "outputs": [
    {
     "name": "stdout",
     "output_type": "stream",
     "text": [
      "['quick', 'brown', 'jumps', 'over', 'lazy']\n"
     ]
    }
   ],
   "source": [
    "print ([items for items in words if len(items)>=4])"
   ]
  },
  {
   "cell_type": "code",
   "execution_count": null,
   "id": "060b0759-485e-4727-823c-1392dd9e3ee4",
   "metadata": {},
   "outputs": [],
   "source": []
  }
 ],
 "metadata": {
  "kernelspec": {
   "display_name": "Python 3 (ipykernel)",
   "language": "python",
   "name": "python3"
  },
  "language_info": {
   "codemirror_mode": {
    "name": "ipython",
    "version": 3
   },
   "file_extension": ".py",
   "mimetype": "text/x-python",
   "name": "python",
   "nbconvert_exporter": "python",
   "pygments_lexer": "ipython3",
   "version": "3.11.7"
  }
 },
 "nbformat": 4,
 "nbformat_minor": 5
}
